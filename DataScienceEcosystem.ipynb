{
 "cells": [
  {
   "cell_type": "markdown",
   "id": "ef81fe42",
   "metadata": {},
   "source": [
    "# Data Science Tools and Ecosystem"
   ]
  },
  {
   "cell_type": "markdown",
   "id": "35ee4523",
   "metadata": {},
   "source": [
    "## In this notebook, Data Science Tools and Ecosystem are summarized."
   ]
  },
  {
   "cell_type": "markdown",
   "id": "4f86a528",
   "metadata": {},
   "source": [
    "## Objectives:\n",
    "#### 1.List popular languages for Data Science\n",
    "#### 2. List commonly used libraries by Dta Scientists\n",
    "#### 3.List some common data science development environments\n"
   ]
  },
  {
   "cell_type": "markdown",
   "id": "123a32aa",
   "metadata": {},
   "source": [
    "### Some of the popular languages that Data Scientists use are:\n",
    "#### 1. Python\n",
    "####  2. R\n",
    "####  3. Scala\n",
    "####  4.Java"
   ]
  },
  {
   "cell_type": "markdown",
   "id": "72043cfd",
   "metadata": {},
   "source": [
    "### Some of the commonly used libraries used by Data Scientists include:\n",
    "#### 1.Pandas\n",
    "#### 2. Numpy\n",
    "#### 3.Matplotlib\n",
    "#### 4.Scikit-learn"
   ]
  },
  {
   "cell_type": "markdown",
   "id": "21c480c9",
   "metadata": {},
   "source": [
    "|Data Science Tools|\n",
    "-------------------\n",
    "|Jupyther Notebook|\n",
    "|R Studio|\n",
    "|Zeppelin Notebook|"
   ]
  },
  {
   "cell_type": "markdown",
   "id": "7673d2b5",
   "metadata": {},
   "source": [
    "### Below are a few examples of evaluating arithmetic expressions in Python"
   ]
  },
  {
   "cell_type": "code",
   "execution_count": 1,
   "id": "dc64874b",
   "metadata": {},
   "outputs": [
    {
     "data": {
      "text/plain": [
       "17"
      ]
     },
     "execution_count": 1,
     "metadata": {},
     "output_type": "execute_result"
    }
   ],
   "source": [
    "#  This a simple arithmetic expression to mutiply then add integers\n",
    "(3*4)+5"
   ]
  },
  {
   "cell_type": "code",
   "execution_count": 4,
   "id": "5549f297",
   "metadata": {},
   "outputs": [
    {
     "name": "stdout",
     "output_type": "stream",
     "text": [
      "3.3333333333333335 hrs\n"
     ]
    }
   ],
   "source": [
    "#  This will convert 200 minutes to hours by diving by 60\n",
    "print(200/60,'hrs')"
   ]
  },
  {
   "cell_type": "markdown",
   "id": "0b57155f",
   "metadata": {},
   "source": [
    "##  Author:\n",
    "#### Chidozie Anyamele"
   ]
  },
  {
   "cell_type": "code",
   "execution_count": null,
   "id": "9754efa3",
   "metadata": {},
   "outputs": [],
   "source": []
  }
 ],
 "metadata": {
  "kernelspec": {
   "display_name": "Python 3",
   "language": "python",
   "name": "python3"
  },
  "language_info": {
   "codemirror_mode": {
    "name": "ipython",
    "version": 3
   },
   "file_extension": ".py",
   "mimetype": "text/x-python",
   "name": "python",
   "nbconvert_exporter": "python",
   "pygments_lexer": "ipython3",
   "version": "3.8.8"
  }
 },
 "nbformat": 4,
 "nbformat_minor": 5
}
